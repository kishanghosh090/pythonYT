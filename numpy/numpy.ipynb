{
 "cells": [
  {
   "cell_type": "markdown",
   "id": "6808a44e",
   "metadata": {},
   "source": [
    "## numpy chai aur code"
   ]
  },
  {
   "cell_type": "code",
   "execution_count": 2,
   "id": "9e07e12d",
   "metadata": {},
   "outputs": [],
   "source": [
    "import numpy as np\n"
   ]
  },
  {
   "cell_type": "markdown",
   "id": "db616436",
   "metadata": {},
   "source": [
    "### creating array from list"
   ]
  },
  {
   "cell_type": "code",
   "execution_count": 6,
   "id": "76ffa1d2",
   "metadata": {},
   "outputs": [
    {
     "name": "stdout",
     "output_type": "stream",
     "text": [
      "[1 2 3 4 5]\n",
      "[[1 2 3]\n",
      " [4 5 6]]\n"
     ]
    }
   ],
   "source": [
    "arr_1d = np.array([1, 2, 3, 4, 5])\n",
    "print(arr_1d)\n",
    "arr_2d = np.array([[1, 2, 3], [4, 5, 6]])\n",
    "print(arr_2d)"
   ]
  },
  {
   "cell_type": "markdown",
   "id": "0e938e21",
   "metadata": {},
   "source": [
    "### list vs numpy array"
   ]
  },
  {
   "cell_type": "code",
   "execution_count": 4,
   "id": "b47b7ba3",
   "metadata": {},
   "outputs": [
    {
     "name": "stdout",
     "output_type": "stream",
     "text": [
      "python list multiplication:  [1, 2, 3, 1, 2, 3, 1, 2, 3]\n",
      "numpy array multiplication:  [3 6 9]\n",
      "Numpy array operation time:  0.7129437923431396\n",
      "List operation time:  2.8371810913085938e-05\n"
     ]
    }
   ],
   "source": [
    "py_list = [1,2,3]\n",
    "print(\"python list multiplication: \", py_list*3)\n",
    "np_arr = np.array([1,2,3])# element wise multiplication\n",
    "print(\"numpy array multiplication: \", np_arr*3)\n",
    "\n",
    "import time\n",
    "\n",
    "start = time.time()\n",
    "np_arr = np.arange(100000000)*2\n",
    "print(\"Numpy array operation time: \",time.time()-start)\n",
    "start = time.time()\n",
    "# py_list = [i*2 for i in range(10000000000)]\n",
    "print(\"List operation time: \",time.time()-start)"
   ]
  },
  {
   "cell_type": "markdown",
   "id": "0114013c",
   "metadata": {},
   "source": [
    "creating array from scratch\n"
   ]
  },
  {
   "cell_type": "code",
   "execution_count": 13,
   "id": "f06a2e91",
   "metadata": {},
   "outputs": [
    {
     "name": "stdout",
     "output_type": "stream",
     "text": [
      "[[0. 0. 0. 0.]\n",
      " [0. 0. 0. 0.]\n",
      " [0. 0. 0. 0.]]\n",
      "[[1. 1. 1.]\n",
      " [1. 1. 1.]]\n",
      "[[5 5]\n",
      " [5 5]]\n",
      "[[0.5855468  0.67316394]\n",
      " [0.09025314 0.33962029]]\n",
      "[0 2 4 6 8]\n"
     ]
    }
   ],
   "source": [
    "zeros = np.zeros((3,4))\n",
    "print(zeros)\n",
    "ones = np.ones((2,3))\n",
    "print(ones)\n",
    "full = np.full((2,2), 5)\n",
    "print(full)\n",
    "random = np.random.random((2,2))\n",
    "print(random)\n",
    "\n",
    "sequence = np.arange(0,10,2)\n",
    "print(sequence)"
   ]
  },
  {
   "cell_type": "markdown",
   "id": "4929bb28",
   "metadata": {},
   "source": [
    "### Vector ,Matrix and Tensor"
   ]
  },
  {
   "cell_type": "code",
   "execution_count": 3,
   "id": "29ba1874",
   "metadata": {},
   "outputs": [
    {
     "name": "stdout",
     "output_type": "stream",
     "text": [
      "[1 2 3 4 5]\n",
      "[[1 2 3]\n",
      " [4 5 6]\n",
      " [7 8 9]]\n",
      "[[[ 1  2  3]\n",
      "  [ 4  5  6]\n",
      "  [ 7  8  9]]\n",
      "\n",
      " [[10 11 12]\n",
      "  [13 14 15]\n",
      "  [16 17 18]]\n",
      "\n",
      " [[19 20 21]\n",
      "  [22 23 24]\n",
      "  [25 26 27]]]\n"
     ]
    }
   ],
   "source": [
    "vector= np.array([1,2,3,4,5])\n",
    "print(vector)\n",
    "matrix = np.array([[1,2,3],[4,5,6],[7,8,9]])\n",
    "print(matrix)\n",
    "tensor = np.array([[[1,2,3],[4,5,6],[7,8,9]],[[10,11,12],[13,14,15],[16,17,18]],[[19,20,21],[22,23,24],[25,26,27]]])\n",
    "print(tensor)"
   ]
  },
  {
   "cell_type": "code",
   "execution_count": 4,
   "id": "70951455",
   "metadata": {},
   "outputs": [
    {
     "name": "stdout",
     "output_type": "stream",
     "text": [
      "(5,)\n"
     ]
    }
   ],
   "source": [
    "arr = np.array([1,2,3,4,5])\n",
    "print(arr.shape)"
   ]
  },
  {
   "cell_type": "code",
   "execution_count": null,
   "id": "338318e8",
   "metadata": {},
   "outputs": [],
   "source": []
  }
 ],
 "metadata": {
  "kernelspec": {
   "display_name": "venv",
   "language": "python",
   "name": "python3"
  },
  "language_info": {
   "codemirror_mode": {
    "name": "ipython",
    "version": 3
   },
   "file_extension": ".py",
   "mimetype": "text/x-python",
   "name": "python",
   "nbconvert_exporter": "python",
   "pygments_lexer": "ipython3",
   "version": "3.12.3"
  }
 },
 "nbformat": 4,
 "nbformat_minor": 5
}
