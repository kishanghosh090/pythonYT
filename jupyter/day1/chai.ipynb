{
 "cells": [
  {
   "cell_type": "markdown",
   "id": "5bbe87a5-aefe-40a0-8b86-05d3db37e543",
   "metadata": {},
   "source": [
    "# welcome to chai"
   ]
  },
  {
   "cell_type": "code",
   "execution_count": 1,
   "id": "4b5276fc-7414-41c9-a178-fd64c84623c9",
   "metadata": {},
   "outputs": [
    {
     "name": "stdout",
     "output_type": "stream",
     "text": [
      "chai aur code with python || kishan\n"
     ]
    }
   ],
   "source": [
    "print(\"chai aur code with python || kishan\")"
   ]
  },
  {
   "cell_type": "code",
   "execution_count": null,
   "id": "5a8d79fa",
   "metadata": {},
   "outputs": [],
   "source": []
  }
 ],
 "metadata": {
  "kernelspec": {
   "display_name": "Python 3 (ipykernel)",
   "language": "python",
   "name": "python3"
  },
  "language_info": {
   "codemirror_mode": {
    "name": "ipython",
    "version": 3
   },
   "file_extension": ".py",
   "mimetype": "text/x-python",
   "name": "python",
   "nbconvert_exporter": "python",
   "pygments_lexer": "ipython3",
   "version": "3.12.3"
  }
 },
 "nbformat": 4,
 "nbformat_minor": 5
}
