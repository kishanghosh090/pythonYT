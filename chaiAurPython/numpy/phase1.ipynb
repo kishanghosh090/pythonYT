{
 "cells": [
  {
   "cell_type": "markdown",
   "metadata": {},
   "source": [
    "## Numpy Array and Basics\n",
    "\n",
    "learn about numpy with chai aur code\n"
   ]
  },
  {
   "cell_type": "code",
   "execution_count": 2,
   "metadata": {},
   "outputs": [],
   "source": [
    "import numpy as np"
   ]
  },
  {
   "cell_type": "markdown",
   "metadata": {
    "vscode": {
     "languageId": "bat"
    }
   },
   "source": [
    "creating Array from List\n"
   ]
  },
  {
   "cell_type": "code",
   "execution_count": 8,
   "metadata": {},
   "outputs": [
    {
     "name": "stdout",
     "output_type": "stream",
     "text": [
      "[1 2 3 4 5]\n",
      "<class 'numpy.ndarray'>\n"
     ]
    }
   ],
   "source": [
    "arr_1d = np.array([1,2,3,4,5])\n",
    "print(arr_1d)\n",
    "print(type(arr_1d))"
   ]
  },
  {
   "cell_type": "code",
   "execution_count": 9,
   "metadata": {},
   "outputs": [
    {
     "name": "stdout",
     "output_type": "stream",
     "text": [
      "[[1 2 3]\n",
      " [4 5 6]\n",
      " [7 8 9]]\n",
      "<class 'numpy.ndarray'>\n"
     ]
    }
   ],
   "source": [
    "arr_2d = np.array([[1,2,3],[4,5,6],[7,8,9]])    \n",
    "print(arr_2d)\n",
    "print(type(arr_2d))"
   ]
  },
  {
   "cell_type": "markdown",
   "metadata": {},
   "source": [
    "## List vs Numpy Array\n"
   ]
  },
  {
   "cell_type": "markdown",
   "metadata": {},
   "source": []
  },
  {
   "cell_type": "code",
   "execution_count": 10,
   "metadata": {},
   "outputs": [
    {
     "name": "stdout",
     "output_type": "stream",
     "text": [
      "Python list multiplication:  [1, 2, 3, 4, 5, 1, 2, 3, 4, 5]\n",
      "Numpy array multiplication:  [ 2  4  6  8 10]\n"
     ]
    }
   ],
   "source": [
    "py_list = [1,2,3,4,5]\n",
    "print(\"Python list multiplication: \", py_list*2)\n",
    "\n",
    "np_arr = np.array([1,2,3,4,5])\n",
    "print(\"Numpy array multiplication: \", np_arr*2)"
   ]
  },
  {
   "cell_type": "code",
   "execution_count": 2,
   "metadata": {},
   "outputs": [
    {
     "name": "stdout",
     "output_type": "stream",
     "text": [
      "6.893060922622681\n",
      "1.8519461154937744\n"
     ]
    }
   ],
   "source": [
    "import time\n",
    "\n",
    "start = time.time()\n",
    "py_list = [i * 2 for i in range(100000000)]\n",
    "print(time.time() - start)\n",
    "\n",
    "start = time.time()\n",
    "np_arr = np.arange(100000000) * 2\n",
    "print(time.time() - start)"
   ]
  },
  {
   "cell_type": "markdown",
   "metadata": {},
   "source": [
    "### Creating array from scratch\n"
   ]
  },
  {
   "cell_type": "code",
   "execution_count": null,
   "metadata": {},
   "outputs": [
    {
     "name": "stdout",
     "output_type": "stream",
     "text": [
      "[0 2 4 6 8]\n"
     ]
    }
   ],
   "source": [
    "zeros = np.zeros((3,3))\n",
    "# print(zeros)\n",
    "\n",
    "ones = np.ones((3,3))\n",
    "# print(ones)\n",
    "\n",
    "# empty = np.empty((3,3))\n",
    "# print(empty)\n",
    "\n",
    "# full = np.full((1000,1000),12)\n",
    "# print(full)\n",
    "\n",
    "ranodm = np.random.random((3,3))\n",
    "# print(ranodm)\n",
    "\n",
    "seq = np.arange(0,10,2)\n",
    "# print(seq)\n",
    "\n"
   ]
  },
  {
   "cell_type": "markdown",
   "metadata": {},
   "source": [
    "### Vector, Matrix, Tensor\n"
   ]
  },
  {
   "cell_type": "code",
   "execution_count": null,
   "metadata": {},
   "outputs": [
    {
     "name": "stdout",
     "output_type": "stream",
     "text": [
      "[1 2 3 4 5 6 7 8 9]\n",
      "1\n"
     ]
    }
   ],
   "source": [
    "vector = np.array([1,2,3,4,5,6,7,8,9])\n",
    "# print(vector)\n",
    "# print(vector[0])\n",
    "# print(vector[1])\n",
    "\n",
    "matrix = np.array([\n",
    "    [1,2,3],\n",
    "    [4,5,6],\n",
    "    [7,8,9]])\n",
    "# print(matrix)\n",
    "\n",
    "tensor = np.array([\n",
    "    [\n",
    "        [1,2,3],\n",
    "        [4,5,6],\n",
    "        [7,8,9]\n",
    "    ],\n",
    "    [\n",
    "        [10,11,12],\n",
    "        [13,14,15],\n",
    "        [16,17,18]\n",
    "    ],\n",
    "    [\n",
    "        [19,20,21],\n",
    "        [22,23,24],\n",
    "        [25,26,27]\n",
    "    ]\n",
    "])\n",
    "print(tensor[0][0][0])\n",
    "\n"
   ]
  },
  {
   "cell_type": "markdown",
   "metadata": {},
   "source": [
    "## Array Properties\n"
   ]
  },
  {
   "cell_type": "code",
   "execution_count": 11,
   "metadata": {},
   "outputs": [
    {
     "name": "stdout",
     "output_type": "stream",
     "text": [
      "shape: (3, 3)\n",
      "dimension: 2\n",
      "datatype: int64\n",
      "size: 9\n"
     ]
    }
   ],
   "source": [
    "arr = np.array([[1,2,3],[4,5,6],[7,8,9]])\n",
    "shape = arr.shape\n",
    "print(f\"shape: {shape}\")\n",
    "print(f\"dimension: {arr.ndim}\")\n",
    "print(f\"datatype: {arr.dtype}\")\n",
    "print(f\"size: {arr.size}\")"
   ]
  },
  {
   "cell_type": "markdown",
   "metadata": {},
   "source": [
    "## Array Reshaping"
   ]
  },
  {
   "cell_type": "code",
   "execution_count": 17,
   "metadata": {},
   "outputs": [
    {
     "name": "stdout",
     "output_type": "stream",
     "text": [
      "[[ 0  1  2  3]\n",
      " [ 4  5  6  7]\n",
      " [ 8  9 10 11]]\n",
      "[ 0  1  2  3  4  5  6  7  8  9 10 11]\n",
      "[ 0  1  2  3  4  5  6  7  8  9 10 11]\n",
      "[[ 0  4  8]\n",
      " [ 1  5  9]\n",
      " [ 2  6 10]\n",
      " [ 3  7 11]]\n"
     ]
    }
   ],
   "source": [
    "arr = np.arange(12)\n",
    "# print(arr)\n",
    "\n",
    "reshaped = arr.reshape((3,4))\n",
    "print(reshaped)\n",
    "\n",
    "flattend = reshaped.flatten()\n",
    "print(flattend)\n",
    "\n",
    "# ravel (returns a view ,instead of a copy)\n",
    "raveled = reshaped.ravel()\n",
    "print(raveled)\n",
    "\n",
    "# Transpose\n",
    "transpose = reshaped.T\n",
    "print(transpose)\n",
    "\n"
   ]
  },
  {
   "cell_type": "code",
   "execution_count": null,
   "metadata": {},
   "outputs": [],
   "source": []
  }
 ],
 "metadata": {
  "kernelspec": {
   "display_name": ".venv",
   "language": "python",
   "name": "python3"
  },
  "language_info": {
   "codemirror_mode": {
    "name": "ipython",
    "version": 3
   },
   "file_extension": ".py",
   "mimetype": "text/x-python",
   "name": "python",
   "nbconvert_exporter": "python",
   "pygments_lexer": "ipython3",
   "version": "3.12.3"
  }
 },
 "nbformat": 4,
 "nbformat_minor": 2
}
